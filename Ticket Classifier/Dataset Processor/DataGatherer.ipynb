{
 "cells": [
  {
   "cell_type": "code",
   "execution_count": null,
   "metadata": {},
   "outputs": [],
   "source": [
    "import requests\n",
    "import json\n",
    "import csv\n",
    "from types import SimpleNamespace"
   ]
  },
  {
   "cell_type": "code",
   "execution_count": null,
   "metadata": {},
   "outputs": [],
   "source": [
    "#ToDo: don't just hardcode the subtypes\n",
    "subtypeMapping = {\n",
    "    0: \"Install or New\",\n",
    "    1: \"Service Request\",\n",
    "    2: \"Incident\",\n",
    "}\n",
    "\n",
    "def getSTId(subtype):\n",
    "    for key, value in subtypeMapping.items():\n",
    "        if value == subtype:\n",
    "            return key\n",
    "    return None\n",
    "\n",
    "def getSubtype(STId):\n",
    "    for key, value in subtypeMapping.items():\n",
    "        if key == STId:\n",
    "            return value\n",
    "    return None"
   ]
  },
  {
   "cell_type": "code",
   "execution_count": null,
   "metadata": {},
   "outputs": [],
   "source": [
    "def request_paginated(url, page):\n",
    "    headers = {\n",
    "    }\n",
    "    furl = f\"{url}&page={page}\"\n",
    "    response = requests.request(\"GET\", furl, headers=headers)\n",
    "    data = json.loads(response.text, object_hook=lambda d: SimpleNamespace(**d))\n",
    "    return data\n",
    "\n",
    "def request_count(url):\n",
    "    headers = {\n",
    "    }\n",
    "    a = url.split(\"?\")\n",
    "    a[0] = a[0]+\"count/\"\n",
    "    curl = \"?\".join(a)\n",
    "    count = json.loads((requests.request(\"GET\", curl, headers=headers)).text)[\"count\"]\n",
    "    return count\n",
    "\n",
    "def write_to_file(data,writer):\n",
    "    for d in data:\n",
    "        label = getSTId(d.subType.name)\n",
    "        text = d.summary\n",
    "        val = (label,text)\n",
    "        writer.writerow(val)"
   ]
  },
  {
   "cell_type": "code",
   "execution_count": null,
   "metadata": {},
   "outputs": [],
   "source": [
    "pagesize = 1000\n",
    "file = 'trainingData.csv'\n",
    "fileHead = ('Label', 'Text')\n",
    "\n",
    "url = f\"REST URL with lots of conditions\"\n",
    "\n",
    "count = request_count(url)\n",
    "iterations = count//pagesize\n",
    "page = 0\n",
    "\n",
    "with open(file, 'w', newline= '') as file:\n",
    "    writer = csv.writer(file)\n",
    "    writer.writerow(fileHead)\n",
    "    while page < iterations:\n",
    "        print(f\"Processing page {page} of {iterations}\")\n",
    "        data = request_paginated(url, page)\n",
    "        write_to_file(data,writer)\n",
    "        page +=1"
   ]
  }
 ],
 "metadata": {
  "kernelspec": {
   "display_name": "base",
   "language": "python",
   "name": "python3"
  },
  "language_info": {
   "codemirror_mode": {
    "name": "ipython",
    "version": 3
   },
   "file_extension": ".py",
   "mimetype": "text/x-python",
   "name": "python",
   "nbconvert_exporter": "python",
   "pygments_lexer": "ipython3",
   "version": "3.12.2"
  }
 },
 "nbformat": 4,
 "nbformat_minor": 2
}

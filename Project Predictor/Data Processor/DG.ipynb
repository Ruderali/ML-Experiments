{
 "cells": [
  {
   "cell_type": "code",
   "execution_count": null,
   "metadata": {},
   "outputs": [],
   "source": [
    "import requests\n",
    "import json\n",
    "\n",
    "payload = {}\n",
    "headers = {\n",
    "\n",
    "}\n",
    "def getPage(page):\n",
    "    url = f\"REST URL\"\n",
    "    response = requests.request(\"GET\", url, headers=headers, data=payload)\n",
    "    return json.loads(response.text)"
   ]
  },
  {
   "cell_type": "code",
   "execution_count": null,
   "metadata": {},
   "outputs": [],
   "source": [
    "raw_data = []\n",
    "for page in range(10):\n",
    "    raw_data.extend(getPage(page))"
   ]
  },
  {
   "cell_type": "code",
   "execution_count": null,
   "metadata": {},
   "outputs": [],
   "source": [
    "print(raw_data)"
   ]
  },
  {
   "cell_type": "code",
   "execution_count": null,
   "metadata": {},
   "outputs": [],
   "source": [
    "for item in raw_data:\n",
    "    item['label'] = 1 if item['billableOption'] == 'Billable' else 0"
   ]
  },
  {
   "cell_type": "code",
   "execution_count": null,
   "metadata": {},
   "outputs": [],
   "source": [
    "def word_count(text):\n",
    "    return len(text.split())"
   ]
  },
  {
   "cell_type": "code",
   "execution_count": null,
   "metadata": {},
   "outputs": [],
   "source": [
    "import math\n",
    "word_counts = [word_count(item['notes']) for item in raw_data]\n",
    "mean_word_count = sum(word_counts) / len(word_counts)\n",
    "variance = sum((count - mean_word_count) ** 2 for count in word_counts) / len(word_counts)\n",
    "standard_deviation = math.sqrt(variance)\n",
    "billable_count = sum(item['label'] == 1 for item in raw_data)\n",
    "total_count = len(raw_data)\n",
    "nonbillable_count = total_count - billable_count\n",
    "billable_percentage = (billable_count / total_count) * 100\n",
    "\n",
    "print(f\"Count of billable entries: {billable_count}\")\n",
    "print(f\"Count of non-billable entries: {nonbillable_count}\")\n",
    "print(f\"Percentage of billable entries: '{billable_percentage}\")\n",
    "print(f\"Average word count of 'notes': {mean_word_count}\")\n",
    "print(f\"Standard deviation of word count: {standard_deviation}\")"
   ]
  },
  {
   "cell_type": "code",
   "execution_count": null,
   "metadata": {},
   "outputs": [],
   "source": [
    "import pandas as pd\n",
    "\n",
    "cleaned_data = [{'notes': entry['notes'], 'label': entry['label']} for entry in raw_data]\n",
    "\n",
    "df = pd.DataFrame(cleaned_data)\n",
    "df.to_csv('timeClass.csv', index=False)"
   ]
  },
  {
   "cell_type": "code",
   "execution_count": null,
   "metadata": {},
   "outputs": [],
   "source": [
    "# For Project Time Estimator\n",
    "import numpy as np\n",
    "import pandas as pd\n",
    "\n",
    "# Extract actualHours into a list\n",
    "actual_hours = [item['actualHours'] for item in raw_data]\n",
    "\n",
    "# Calculate mean (mu) and standard deviation (alpha)\n",
    "mu = np.mean(actual_hours)\n",
    "alpha = np.std(actual_hours)\n",
    "\n",
    "# Function for sigmoid normalization\n",
    "def sigmoid_normalization(x, mu, alpha):\n",
    "    return 1 / (1 + np.exp(-(x - mu) / alpha))\n",
    "\n",
    "# Apply sigmoid normalization to each actualHours\n",
    "for item in raw_data:\n",
    "    item['normalizedHours'] = sigmoid_normalization(item['actualHours'], mu, alpha)"
   ]
  },
  {
   "cell_type": "code",
   "execution_count": null,
   "metadata": {},
   "outputs": [],
   "source": [
    "print(mu)\n",
    "print(alpha)"
   ]
  },
  {
   "cell_type": "code",
   "execution_count": null,
   "metadata": {},
   "outputs": [],
   "source": [
    "def isn(normalized_value, mu, alpha):\n",
    "    return mu - alpha * np.log(1 / normalized_value - 1)\n",
    "\n",
    "print(isn(0.4746891091334947, mu, alpha))"
   ]
  },
  {
   "cell_type": "code",
   "execution_count": null,
   "metadata": {},
   "outputs": [],
   "source": [
    "import csv\n",
    "with open(\"output.csv\", mode=\"w\", newline=\"\") as file:\n",
    "    writer = csv.writer(file)\n",
    "    \n",
    "    # Write header\n",
    "    writer.writerow([\"Name\", \"Actual Hours\", \"normalizedHours\"])\n",
    "    \n",
    "    # Write each row of data\n",
    "    for item in raw_data:\n",
    "        writer.writerow([item.get(\"name\"), item.get(\"actualHours\"), item.get(\"normalizedHours\")])"
   ]
  }
 ],
 "metadata": {
  "kernelspec": {
   "display_name": "Python 3",
   "language": "python",
   "name": "python3"
  },
  "language_info": {
   "codemirror_mode": {
    "name": "ipython",
    "version": 3
   },
   "file_extension": ".py",
   "mimetype": "text/x-python",
   "name": "python",
   "nbconvert_exporter": "python",
   "pygments_lexer": "ipython3",
   "version": "3.10.12"
  }
 },
 "nbformat": 4,
 "nbformat_minor": 2
}
